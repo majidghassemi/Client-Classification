{
 "cells": [
  {
   "cell_type": "markdown",
   "source": [
    "# Importing libraries"
   ],
   "metadata": {}
  },
  {
   "cell_type": "code",
   "execution_count": 67,
   "source": [
    "# Regular EDA and plotting libraries\n",
    "import numpy as np\n",
    "import pandas as pd\n",
    "import matplotlib.pyplot as plt\n",
    "import seaborn as sns\n",
    "\n",
    "# For plots to appear in the notebook\n",
    "%matplotlib inline\n",
    "\n",
    "# Pipeline\n",
    "from sklearn.pipeline import make_pipeline, Pipeline\n",
    "\n",
    "# Preprocessing\n",
    "from sklearn.preprocessing import StandardScaler, OneHotEncoder\n",
    "from sklearn.compose import ColumnTransformer\n",
    "\n",
    "# Importing models\n",
    "from sklearn.linear_model import LogisticRegression\n",
    "from sklearn.neighbors import KNeighborsClassifier\n",
    "from sklearn.naive_bayes import GaussianNB\n",
    "from sklearn.svm import SVC\n",
    "from sklearn.ensemble import RandomForestClassifier\n",
    "\n",
    "# Model evaluation\n",
    "from sklearn.model_selection import train_test_split, GridSearchCV, cross_val_score\n",
    "from sklearn.metrics import confusion_matrix, classification_report, precision_score, f1_score, recall_score"
   ],
   "outputs": [],
   "metadata": {}
  },
  {
   "cell_type": "markdown",
   "source": [
    "## Importing dataset"
   ],
   "metadata": {}
  },
  {
   "cell_type": "code",
   "execution_count": 2,
   "source": [
    "df = pd.read_csv('clients.csv')"
   ],
   "outputs": [],
   "metadata": {}
  },
  {
   "cell_type": "code",
   "execution_count": 3,
   "source": [
    "df.head()"
   ],
   "outputs": [
    {
     "output_type": "execute_result",
     "data": {
      "text/html": [
       "<div>\n",
       "<style scoped>\n",
       "    .dataframe tbody tr th:only-of-type {\n",
       "        vertical-align: middle;\n",
       "    }\n",
       "\n",
       "    .dataframe tbody tr th {\n",
       "        vertical-align: top;\n",
       "    }\n",
       "\n",
       "    .dataframe thead th {\n",
       "        text-align: right;\n",
       "    }\n",
       "</style>\n",
       "<table border=\"1\" class=\"dataframe\">\n",
       "  <thead>\n",
       "    <tr style=\"text-align: right;\">\n",
       "      <th></th>\n",
       "      <th>month</th>\n",
       "      <th>credit_amount</th>\n",
       "      <th>credit_term</th>\n",
       "      <th>age</th>\n",
       "      <th>sex</th>\n",
       "      <th>education</th>\n",
       "      <th>product_type</th>\n",
       "      <th>having_children_flg</th>\n",
       "      <th>region</th>\n",
       "      <th>income</th>\n",
       "      <th>family_status</th>\n",
       "      <th>phone_operator</th>\n",
       "      <th>is_client</th>\n",
       "      <th>bad_client_target</th>\n",
       "    </tr>\n",
       "  </thead>\n",
       "  <tbody>\n",
       "    <tr>\n",
       "      <th>0</th>\n",
       "      <td>1</td>\n",
       "      <td>7000</td>\n",
       "      <td>12</td>\n",
       "      <td>39</td>\n",
       "      <td>male</td>\n",
       "      <td>Secondary special education</td>\n",
       "      <td>Cell phones</td>\n",
       "      <td>0</td>\n",
       "      <td>2</td>\n",
       "      <td>21000</td>\n",
       "      <td>Another</td>\n",
       "      <td>0</td>\n",
       "      <td>0</td>\n",
       "      <td>0</td>\n",
       "    </tr>\n",
       "    <tr>\n",
       "      <th>1</th>\n",
       "      <td>1</td>\n",
       "      <td>19000</td>\n",
       "      <td>6</td>\n",
       "      <td>20</td>\n",
       "      <td>male</td>\n",
       "      <td>Secondary special education</td>\n",
       "      <td>Household appliances</td>\n",
       "      <td>1</td>\n",
       "      <td>2</td>\n",
       "      <td>17000</td>\n",
       "      <td>Another</td>\n",
       "      <td>3</td>\n",
       "      <td>1</td>\n",
       "      <td>0</td>\n",
       "    </tr>\n",
       "    <tr>\n",
       "      <th>2</th>\n",
       "      <td>1</td>\n",
       "      <td>29000</td>\n",
       "      <td>12</td>\n",
       "      <td>23</td>\n",
       "      <td>female</td>\n",
       "      <td>Secondary special education</td>\n",
       "      <td>Household appliances</td>\n",
       "      <td>0</td>\n",
       "      <td>2</td>\n",
       "      <td>31000</td>\n",
       "      <td>Another</td>\n",
       "      <td>2</td>\n",
       "      <td>0</td>\n",
       "      <td>0</td>\n",
       "    </tr>\n",
       "    <tr>\n",
       "      <th>3</th>\n",
       "      <td>1</td>\n",
       "      <td>10000</td>\n",
       "      <td>12</td>\n",
       "      <td>30</td>\n",
       "      <td>male</td>\n",
       "      <td>Secondary special education</td>\n",
       "      <td>Cell phones</td>\n",
       "      <td>1</td>\n",
       "      <td>2</td>\n",
       "      <td>31000</td>\n",
       "      <td>Unmarried</td>\n",
       "      <td>3</td>\n",
       "      <td>1</td>\n",
       "      <td>0</td>\n",
       "    </tr>\n",
       "    <tr>\n",
       "      <th>4</th>\n",
       "      <td>1</td>\n",
       "      <td>14500</td>\n",
       "      <td>12</td>\n",
       "      <td>25</td>\n",
       "      <td>female</td>\n",
       "      <td>Higher education</td>\n",
       "      <td>Cell phones</td>\n",
       "      <td>0</td>\n",
       "      <td>2</td>\n",
       "      <td>26000</td>\n",
       "      <td>Married</td>\n",
       "      <td>0</td>\n",
       "      <td>1</td>\n",
       "      <td>0</td>\n",
       "    </tr>\n",
       "  </tbody>\n",
       "</table>\n",
       "</div>"
      ],
      "text/plain": [
       "   month  credit_amount  credit_term  age     sex  \\\n",
       "0      1           7000           12   39    male   \n",
       "1      1          19000            6   20    male   \n",
       "2      1          29000           12   23  female   \n",
       "3      1          10000           12   30    male   \n",
       "4      1          14500           12   25  female   \n",
       "\n",
       "                     education          product_type  having_children_flg  \\\n",
       "0  Secondary special education           Cell phones                    0   \n",
       "1  Secondary special education  Household appliances                    1   \n",
       "2  Secondary special education  Household appliances                    0   \n",
       "3  Secondary special education           Cell phones                    1   \n",
       "4             Higher education           Cell phones                    0   \n",
       "\n",
       "   region  income family_status  phone_operator  is_client  bad_client_target  \n",
       "0       2   21000       Another               0          0                  0  \n",
       "1       2   17000       Another               3          1                  0  \n",
       "2       2   31000       Another               2          0                  0  \n",
       "3       2   31000     Unmarried               3          1                  0  \n",
       "4       2   26000       Married               0          1                  0  "
      ]
     },
     "metadata": {},
     "execution_count": 3
    }
   ],
   "metadata": {}
  },
  {
   "cell_type": "code",
   "execution_count": 4,
   "source": [
    "df.tail()"
   ],
   "outputs": [
    {
     "output_type": "execute_result",
     "data": {
      "text/html": [
       "<div>\n",
       "<style scoped>\n",
       "    .dataframe tbody tr th:only-of-type {\n",
       "        vertical-align: middle;\n",
       "    }\n",
       "\n",
       "    .dataframe tbody tr th {\n",
       "        vertical-align: top;\n",
       "    }\n",
       "\n",
       "    .dataframe thead th {\n",
       "        text-align: right;\n",
       "    }\n",
       "</style>\n",
       "<table border=\"1\" class=\"dataframe\">\n",
       "  <thead>\n",
       "    <tr style=\"text-align: right;\">\n",
       "      <th></th>\n",
       "      <th>month</th>\n",
       "      <th>credit_amount</th>\n",
       "      <th>credit_term</th>\n",
       "      <th>age</th>\n",
       "      <th>sex</th>\n",
       "      <th>education</th>\n",
       "      <th>product_type</th>\n",
       "      <th>having_children_flg</th>\n",
       "      <th>region</th>\n",
       "      <th>income</th>\n",
       "      <th>family_status</th>\n",
       "      <th>phone_operator</th>\n",
       "      <th>is_client</th>\n",
       "      <th>bad_client_target</th>\n",
       "    </tr>\n",
       "  </thead>\n",
       "  <tbody>\n",
       "    <tr>\n",
       "      <th>1718</th>\n",
       "      <td>12</td>\n",
       "      <td>18500</td>\n",
       "      <td>6</td>\n",
       "      <td>32</td>\n",
       "      <td>male</td>\n",
       "      <td>Higher education</td>\n",
       "      <td>Cell phones</td>\n",
       "      <td>1</td>\n",
       "      <td>2</td>\n",
       "      <td>46000</td>\n",
       "      <td>Another</td>\n",
       "      <td>1</td>\n",
       "      <td>1</td>\n",
       "      <td>0</td>\n",
       "    </tr>\n",
       "    <tr>\n",
       "      <th>1719</th>\n",
       "      <td>12</td>\n",
       "      <td>6500</td>\n",
       "      <td>6</td>\n",
       "      <td>24</td>\n",
       "      <td>male</td>\n",
       "      <td>Secondary special education</td>\n",
       "      <td>Cell phones</td>\n",
       "      <td>0</td>\n",
       "      <td>2</td>\n",
       "      <td>18000</td>\n",
       "      <td>Another</td>\n",
       "      <td>0</td>\n",
       "      <td>1</td>\n",
       "      <td>0</td>\n",
       "    </tr>\n",
       "    <tr>\n",
       "      <th>1720</th>\n",
       "      <td>12</td>\n",
       "      <td>5500</td>\n",
       "      <td>12</td>\n",
       "      <td>21</td>\n",
       "      <td>male</td>\n",
       "      <td>Incomplete higher education</td>\n",
       "      <td>Cell phones</td>\n",
       "      <td>0</td>\n",
       "      <td>2</td>\n",
       "      <td>15000</td>\n",
       "      <td>Another</td>\n",
       "      <td>1</td>\n",
       "      <td>1</td>\n",
       "      <td>0</td>\n",
       "    </tr>\n",
       "    <tr>\n",
       "      <th>1721</th>\n",
       "      <td>12</td>\n",
       "      <td>30500</td>\n",
       "      <td>10</td>\n",
       "      <td>25</td>\n",
       "      <td>female</td>\n",
       "      <td>Incomplete higher education</td>\n",
       "      <td>Cell phones</td>\n",
       "      <td>0</td>\n",
       "      <td>2</td>\n",
       "      <td>41000</td>\n",
       "      <td>Another</td>\n",
       "      <td>2</td>\n",
       "      <td>1</td>\n",
       "      <td>1</td>\n",
       "    </tr>\n",
       "    <tr>\n",
       "      <th>1722</th>\n",
       "      <td>12</td>\n",
       "      <td>116000</td>\n",
       "      <td>24</td>\n",
       "      <td>34</td>\n",
       "      <td>male</td>\n",
       "      <td>Higher education</td>\n",
       "      <td>Clothing</td>\n",
       "      <td>1</td>\n",
       "      <td>2</td>\n",
       "      <td>41000</td>\n",
       "      <td>Another</td>\n",
       "      <td>2</td>\n",
       "      <td>0</td>\n",
       "      <td>0</td>\n",
       "    </tr>\n",
       "  </tbody>\n",
       "</table>\n",
       "</div>"
      ],
      "text/plain": [
       "      month  credit_amount  credit_term  age     sex  \\\n",
       "1718     12          18500            6   32    male   \n",
       "1719     12           6500            6   24    male   \n",
       "1720     12           5500           12   21    male   \n",
       "1721     12          30500           10   25  female   \n",
       "1722     12         116000           24   34    male   \n",
       "\n",
       "                        education product_type  having_children_flg  region  \\\n",
       "1718             Higher education  Cell phones                    1       2   \n",
       "1719  Secondary special education  Cell phones                    0       2   \n",
       "1720  Incomplete higher education  Cell phones                    0       2   \n",
       "1721  Incomplete higher education  Cell phones                    0       2   \n",
       "1722             Higher education     Clothing                    1       2   \n",
       "\n",
       "      income family_status  phone_operator  is_client  bad_client_target  \n",
       "1718   46000       Another               1          1                  0  \n",
       "1719   18000       Another               0          1                  0  \n",
       "1720   15000       Another               1          1                  0  \n",
       "1721   41000       Another               2          1                  1  \n",
       "1722   41000       Another               2          0                  0  "
      ]
     },
     "metadata": {},
     "execution_count": 4
    }
   ],
   "metadata": {}
  },
  {
   "cell_type": "code",
   "execution_count": 5,
   "source": [
    "df.shape"
   ],
   "outputs": [
    {
     "output_type": "execute_result",
     "data": {
      "text/plain": [
       "(1723, 14)"
      ]
     },
     "metadata": {},
     "execution_count": 5
    }
   ],
   "metadata": {}
  },
  {
   "cell_type": "markdown",
   "source": [
    "## Perform EDA"
   ],
   "metadata": {}
  },
  {
   "cell_type": "code",
   "execution_count": 6,
   "source": [
    "df.info()"
   ],
   "outputs": [
    {
     "output_type": "stream",
     "name": "stdout",
     "text": [
      "<class 'pandas.core.frame.DataFrame'>\n",
      "RangeIndex: 1723 entries, 0 to 1722\n",
      "Data columns (total 14 columns):\n",
      " #   Column               Non-Null Count  Dtype \n",
      "---  ------               --------------  ----- \n",
      " 0   month                1723 non-null   int64 \n",
      " 1   credit_amount        1723 non-null   int64 \n",
      " 2   credit_term          1723 non-null   int64 \n",
      " 3   age                  1723 non-null   int64 \n",
      " 4   sex                  1723 non-null   object\n",
      " 5   education            1723 non-null   object\n",
      " 6   product_type         1723 non-null   object\n",
      " 7   having_children_flg  1723 non-null   int64 \n",
      " 8   region               1723 non-null   int64 \n",
      " 9   income               1723 non-null   int64 \n",
      " 10  family_status        1723 non-null   object\n",
      " 11  phone_operator       1723 non-null   int64 \n",
      " 12  is_client            1723 non-null   int64 \n",
      " 13  bad_client_target    1723 non-null   int64 \n",
      "dtypes: int64(10), object(4)\n",
      "memory usage: 188.6+ KB\n"
     ]
    }
   ],
   "metadata": {}
  },
  {
   "cell_type": "code",
   "execution_count": 7,
   "source": [
    "print(df.sex.nunique(), df.education.nunique(), df.product_type.nunique(), df.region.nunique(), df.family_status.nunique())"
   ],
   "outputs": [
    {
     "output_type": "stream",
     "name": "stdout",
     "text": [
      "2 6 22 3 3\n"
     ]
    }
   ],
   "metadata": {}
  },
  {
   "cell_type": "markdown",
   "source": [
    "### We should care about sex, education, region and family_status columns and deal with them with label encoding and one hot encoding"
   ],
   "metadata": {}
  },
  {
   "cell_type": "code",
   "execution_count": 8,
   "source": [
    "df.describe()"
   ],
   "outputs": [
    {
     "output_type": "execute_result",
     "data": {
      "text/html": [
       "<div>\n",
       "<style scoped>\n",
       "    .dataframe tbody tr th:only-of-type {\n",
       "        vertical-align: middle;\n",
       "    }\n",
       "\n",
       "    .dataframe tbody tr th {\n",
       "        vertical-align: top;\n",
       "    }\n",
       "\n",
       "    .dataframe thead th {\n",
       "        text-align: right;\n",
       "    }\n",
       "</style>\n",
       "<table border=\"1\" class=\"dataframe\">\n",
       "  <thead>\n",
       "    <tr style=\"text-align: right;\">\n",
       "      <th></th>\n",
       "      <th>month</th>\n",
       "      <th>credit_amount</th>\n",
       "      <th>credit_term</th>\n",
       "      <th>age</th>\n",
       "      <th>having_children_flg</th>\n",
       "      <th>region</th>\n",
       "      <th>income</th>\n",
       "      <th>phone_operator</th>\n",
       "      <th>is_client</th>\n",
       "      <th>bad_client_target</th>\n",
       "    </tr>\n",
       "  </thead>\n",
       "  <tbody>\n",
       "    <tr>\n",
       "      <th>count</th>\n",
       "      <td>1723.000000</td>\n",
       "      <td>1723.000000</td>\n",
       "      <td>1723.000000</td>\n",
       "      <td>1723.000000</td>\n",
       "      <td>1723.000000</td>\n",
       "      <td>1723.000000</td>\n",
       "      <td>1723.000000</td>\n",
       "      <td>1723.000000</td>\n",
       "      <td>1723.000000</td>\n",
       "      <td>1723.000000</td>\n",
       "    </tr>\n",
       "    <tr>\n",
       "      <th>mean</th>\n",
       "      <td>6.708067</td>\n",
       "      <td>29264.654672</td>\n",
       "      <td>11.546721</td>\n",
       "      <td>35.911782</td>\n",
       "      <td>0.428323</td>\n",
       "      <td>1.681370</td>\n",
       "      <td>32652.350551</td>\n",
       "      <td>1.125363</td>\n",
       "      <td>0.604759</td>\n",
       "      <td>0.113755</td>\n",
       "    </tr>\n",
       "    <tr>\n",
       "      <th>std</th>\n",
       "      <td>3.538420</td>\n",
       "      <td>27926.778301</td>\n",
       "      <td>6.548354</td>\n",
       "      <td>13.120203</td>\n",
       "      <td>0.494979</td>\n",
       "      <td>0.704256</td>\n",
       "      <td>20913.193158</td>\n",
       "      <td>1.015822</td>\n",
       "      <td>0.489044</td>\n",
       "      <td>0.317606</td>\n",
       "    </tr>\n",
       "    <tr>\n",
       "      <th>min</th>\n",
       "      <td>1.000000</td>\n",
       "      <td>5000.000000</td>\n",
       "      <td>3.000000</td>\n",
       "      <td>18.000000</td>\n",
       "      <td>0.000000</td>\n",
       "      <td>0.000000</td>\n",
       "      <td>1000.000000</td>\n",
       "      <td>0.000000</td>\n",
       "      <td>0.000000</td>\n",
       "      <td>0.000000</td>\n",
       "    </tr>\n",
       "    <tr>\n",
       "      <th>25%</th>\n",
       "      <td>3.000000</td>\n",
       "      <td>13000.000000</td>\n",
       "      <td>6.000000</td>\n",
       "      <td>26.000000</td>\n",
       "      <td>0.000000</td>\n",
       "      <td>2.000000</td>\n",
       "      <td>21000.000000</td>\n",
       "      <td>0.000000</td>\n",
       "      <td>0.000000</td>\n",
       "      <td>0.000000</td>\n",
       "    </tr>\n",
       "    <tr>\n",
       "      <th>50%</th>\n",
       "      <td>7.000000</td>\n",
       "      <td>21500.000000</td>\n",
       "      <td>12.000000</td>\n",
       "      <td>32.000000</td>\n",
       "      <td>0.000000</td>\n",
       "      <td>2.000000</td>\n",
       "      <td>27000.000000</td>\n",
       "      <td>1.000000</td>\n",
       "      <td>1.000000</td>\n",
       "      <td>0.000000</td>\n",
       "    </tr>\n",
       "    <tr>\n",
       "      <th>75%</th>\n",
       "      <td>10.000000</td>\n",
       "      <td>34000.000000</td>\n",
       "      <td>12.000000</td>\n",
       "      <td>44.000000</td>\n",
       "      <td>1.000000</td>\n",
       "      <td>2.000000</td>\n",
       "      <td>38000.000000</td>\n",
       "      <td>2.000000</td>\n",
       "      <td>1.000000</td>\n",
       "      <td>0.000000</td>\n",
       "    </tr>\n",
       "    <tr>\n",
       "      <th>max</th>\n",
       "      <td>12.000000</td>\n",
       "      <td>301000.000000</td>\n",
       "      <td>36.000000</td>\n",
       "      <td>90.000000</td>\n",
       "      <td>1.000000</td>\n",
       "      <td>2.000000</td>\n",
       "      <td>401000.000000</td>\n",
       "      <td>4.000000</td>\n",
       "      <td>1.000000</td>\n",
       "      <td>1.000000</td>\n",
       "    </tr>\n",
       "  </tbody>\n",
       "</table>\n",
       "</div>"
      ],
      "text/plain": [
       "             month  credit_amount  credit_term          age  \\\n",
       "count  1723.000000    1723.000000  1723.000000  1723.000000   \n",
       "mean      6.708067   29264.654672    11.546721    35.911782   \n",
       "std       3.538420   27926.778301     6.548354    13.120203   \n",
       "min       1.000000    5000.000000     3.000000    18.000000   \n",
       "25%       3.000000   13000.000000     6.000000    26.000000   \n",
       "50%       7.000000   21500.000000    12.000000    32.000000   \n",
       "75%      10.000000   34000.000000    12.000000    44.000000   \n",
       "max      12.000000  301000.000000    36.000000    90.000000   \n",
       "\n",
       "       having_children_flg       region         income  phone_operator  \\\n",
       "count          1723.000000  1723.000000    1723.000000     1723.000000   \n",
       "mean              0.428323     1.681370   32652.350551        1.125363   \n",
       "std               0.494979     0.704256   20913.193158        1.015822   \n",
       "min               0.000000     0.000000    1000.000000        0.000000   \n",
       "25%               0.000000     2.000000   21000.000000        0.000000   \n",
       "50%               0.000000     2.000000   27000.000000        1.000000   \n",
       "75%               1.000000     2.000000   38000.000000        2.000000   \n",
       "max               1.000000     2.000000  401000.000000        4.000000   \n",
       "\n",
       "         is_client  bad_client_target  \n",
       "count  1723.000000        1723.000000  \n",
       "mean      0.604759           0.113755  \n",
       "std       0.489044           0.317606  \n",
       "min       0.000000           0.000000  \n",
       "25%       0.000000           0.000000  \n",
       "50%       1.000000           0.000000  \n",
       "75%       1.000000           0.000000  \n",
       "max       1.000000           1.000000  "
      ]
     },
     "metadata": {},
     "execution_count": 8
    }
   ],
   "metadata": {}
  },
  {
   "cell_type": "code",
   "execution_count": 9,
   "source": [
    "df.corr()"
   ],
   "outputs": [
    {
     "output_type": "execute_result",
     "data": {
      "text/html": [
       "<div>\n",
       "<style scoped>\n",
       "    .dataframe tbody tr th:only-of-type {\n",
       "        vertical-align: middle;\n",
       "    }\n",
       "\n",
       "    .dataframe tbody tr th {\n",
       "        vertical-align: top;\n",
       "    }\n",
       "\n",
       "    .dataframe thead th {\n",
       "        text-align: right;\n",
       "    }\n",
       "</style>\n",
       "<table border=\"1\" class=\"dataframe\">\n",
       "  <thead>\n",
       "    <tr style=\"text-align: right;\">\n",
       "      <th></th>\n",
       "      <th>month</th>\n",
       "      <th>credit_amount</th>\n",
       "      <th>credit_term</th>\n",
       "      <th>age</th>\n",
       "      <th>having_children_flg</th>\n",
       "      <th>region</th>\n",
       "      <th>income</th>\n",
       "      <th>phone_operator</th>\n",
       "      <th>is_client</th>\n",
       "      <th>bad_client_target</th>\n",
       "    </tr>\n",
       "  </thead>\n",
       "  <tbody>\n",
       "    <tr>\n",
       "      <th>month</th>\n",
       "      <td>1.000000</td>\n",
       "      <td>0.044120</td>\n",
       "      <td>0.032481</td>\n",
       "      <td>0.018633</td>\n",
       "      <td>-0.019083</td>\n",
       "      <td>0.016949</td>\n",
       "      <td>0.064720</td>\n",
       "      <td>0.006149</td>\n",
       "      <td>-0.033494</td>\n",
       "      <td>0.019749</td>\n",
       "    </tr>\n",
       "    <tr>\n",
       "      <th>credit_amount</th>\n",
       "      <td>0.044120</td>\n",
       "      <td>1.000000</td>\n",
       "      <td>0.497040</td>\n",
       "      <td>0.122815</td>\n",
       "      <td>-0.034966</td>\n",
       "      <td>-0.162979</td>\n",
       "      <td>0.372995</td>\n",
       "      <td>-0.010177</td>\n",
       "      <td>0.034430</td>\n",
       "      <td>-0.014035</td>\n",
       "    </tr>\n",
       "    <tr>\n",
       "      <th>credit_term</th>\n",
       "      <td>0.032481</td>\n",
       "      <td>0.497040</td>\n",
       "      <td>1.000000</td>\n",
       "      <td>0.051398</td>\n",
       "      <td>-0.012807</td>\n",
       "      <td>0.004804</td>\n",
       "      <td>0.027781</td>\n",
       "      <td>-0.028206</td>\n",
       "      <td>0.028890</td>\n",
       "      <td>0.074508</td>\n",
       "    </tr>\n",
       "    <tr>\n",
       "      <th>age</th>\n",
       "      <td>0.018633</td>\n",
       "      <td>0.122815</td>\n",
       "      <td>0.051398</td>\n",
       "      <td>1.000000</td>\n",
       "      <td>0.167495</td>\n",
       "      <td>-0.016368</td>\n",
       "      <td>-0.069791</td>\n",
       "      <td>-0.022219</td>\n",
       "      <td>0.004066</td>\n",
       "      <td>-0.102110</td>\n",
       "    </tr>\n",
       "    <tr>\n",
       "      <th>having_children_flg</th>\n",
       "      <td>-0.019083</td>\n",
       "      <td>-0.034966</td>\n",
       "      <td>-0.012807</td>\n",
       "      <td>0.167495</td>\n",
       "      <td>1.000000</td>\n",
       "      <td>0.093539</td>\n",
       "      <td>-0.019715</td>\n",
       "      <td>0.029431</td>\n",
       "      <td>-0.082315</td>\n",
       "      <td>-0.062617</td>\n",
       "    </tr>\n",
       "    <tr>\n",
       "      <th>region</th>\n",
       "      <td>0.016949</td>\n",
       "      <td>-0.162979</td>\n",
       "      <td>0.004804</td>\n",
       "      <td>-0.016368</td>\n",
       "      <td>0.093539</td>\n",
       "      <td>1.000000</td>\n",
       "      <td>-0.315821</td>\n",
       "      <td>-0.014754</td>\n",
       "      <td>0.032058</td>\n",
       "      <td>0.042712</td>\n",
       "    </tr>\n",
       "    <tr>\n",
       "      <th>income</th>\n",
       "      <td>0.064720</td>\n",
       "      <td>0.372995</td>\n",
       "      <td>0.027781</td>\n",
       "      <td>-0.069791</td>\n",
       "      <td>-0.019715</td>\n",
       "      <td>-0.315821</td>\n",
       "      <td>1.000000</td>\n",
       "      <td>-0.001255</td>\n",
       "      <td>-0.112127</td>\n",
       "      <td>-0.056292</td>\n",
       "    </tr>\n",
       "    <tr>\n",
       "      <th>phone_operator</th>\n",
       "      <td>0.006149</td>\n",
       "      <td>-0.010177</td>\n",
       "      <td>-0.028206</td>\n",
       "      <td>-0.022219</td>\n",
       "      <td>0.029431</td>\n",
       "      <td>-0.014754</td>\n",
       "      <td>-0.001255</td>\n",
       "      <td>1.000000</td>\n",
       "      <td>0.002773</td>\n",
       "      <td>-0.031627</td>\n",
       "    </tr>\n",
       "    <tr>\n",
       "      <th>is_client</th>\n",
       "      <td>-0.033494</td>\n",
       "      <td>0.034430</td>\n",
       "      <td>0.028890</td>\n",
       "      <td>0.004066</td>\n",
       "      <td>-0.082315</td>\n",
       "      <td>0.032058</td>\n",
       "      <td>-0.112127</td>\n",
       "      <td>0.002773</td>\n",
       "      <td>1.000000</td>\n",
       "      <td>0.098955</td>\n",
       "    </tr>\n",
       "    <tr>\n",
       "      <th>bad_client_target</th>\n",
       "      <td>0.019749</td>\n",
       "      <td>-0.014035</td>\n",
       "      <td>0.074508</td>\n",
       "      <td>-0.102110</td>\n",
       "      <td>-0.062617</td>\n",
       "      <td>0.042712</td>\n",
       "      <td>-0.056292</td>\n",
       "      <td>-0.031627</td>\n",
       "      <td>0.098955</td>\n",
       "      <td>1.000000</td>\n",
       "    </tr>\n",
       "  </tbody>\n",
       "</table>\n",
       "</div>"
      ],
      "text/plain": [
       "                        month  credit_amount  credit_term       age  \\\n",
       "month                1.000000       0.044120     0.032481  0.018633   \n",
       "credit_amount        0.044120       1.000000     0.497040  0.122815   \n",
       "credit_term          0.032481       0.497040     1.000000  0.051398   \n",
       "age                  0.018633       0.122815     0.051398  1.000000   \n",
       "having_children_flg -0.019083      -0.034966    -0.012807  0.167495   \n",
       "region               0.016949      -0.162979     0.004804 -0.016368   \n",
       "income               0.064720       0.372995     0.027781 -0.069791   \n",
       "phone_operator       0.006149      -0.010177    -0.028206 -0.022219   \n",
       "is_client           -0.033494       0.034430     0.028890  0.004066   \n",
       "bad_client_target    0.019749      -0.014035     0.074508 -0.102110   \n",
       "\n",
       "                     having_children_flg    region    income  phone_operator  \\\n",
       "month                          -0.019083  0.016949  0.064720        0.006149   \n",
       "credit_amount                  -0.034966 -0.162979  0.372995       -0.010177   \n",
       "credit_term                    -0.012807  0.004804  0.027781       -0.028206   \n",
       "age                             0.167495 -0.016368 -0.069791       -0.022219   \n",
       "having_children_flg             1.000000  0.093539 -0.019715        0.029431   \n",
       "region                          0.093539  1.000000 -0.315821       -0.014754   \n",
       "income                         -0.019715 -0.315821  1.000000       -0.001255   \n",
       "phone_operator                  0.029431 -0.014754 -0.001255        1.000000   \n",
       "is_client                      -0.082315  0.032058 -0.112127        0.002773   \n",
       "bad_client_target              -0.062617  0.042712 -0.056292       -0.031627   \n",
       "\n",
       "                     is_client  bad_client_target  \n",
       "month                -0.033494           0.019749  \n",
       "credit_amount         0.034430          -0.014035  \n",
       "credit_term           0.028890           0.074508  \n",
       "age                   0.004066          -0.102110  \n",
       "having_children_flg  -0.082315          -0.062617  \n",
       "region                0.032058           0.042712  \n",
       "income               -0.112127          -0.056292  \n",
       "phone_operator        0.002773          -0.031627  \n",
       "is_client             1.000000           0.098955  \n",
       "bad_client_target     0.098955           1.000000  "
      ]
     },
     "metadata": {},
     "execution_count": 9
    }
   ],
   "metadata": {}
  },
  {
   "cell_type": "code",
   "execution_count": 10,
   "source": [
    "plt.figure(figsize = (12, 8))\n",
    "sns.heatmap(df.corr(), annot = True, fmt = \".2f\")\n",
    "plt.title(\"Correlation between independents variables\")"
   ],
   "outputs": [
    {
     "output_type": "execute_result",
     "data": {
      "text/plain": [
       "Text(0.5, 1.0, 'Correlation between independents variables')"
      ]
     },
     "metadata": {},
     "execution_count": 10
    },
    {
     "output_type": "display_data",
     "data": {
      "image/png": "[encoded data removed]",
      "text/plain": [
       "<Figure size 864x576 with 2 Axes>"
      ]
     },
     "metadata": {
      "needs_background": "light"
     }
    }
   ],
   "metadata": {}
  },
  {
   "cell_type": "markdown",
   "source": [
    "## Lets see visual relation between variables"
   ],
   "metadata": {}
  },
  {
   "cell_type": "code",
   "execution_count": 11,
   "source": [
    "# (1) => Bad client, (0) => Not bad client\n",
    "df.bad_client_target.value_counts()"
   ],
   "outputs": [
    {
     "output_type": "execute_result",
     "data": {
      "text/plain": [
       "0    1527\n",
       "1     196\n",
       "Name: bad_client_target, dtype: int64"
      ]
     },
     "metadata": {},
     "execution_count": 11
    }
   ],
   "metadata": {}
  },
  {
   "cell_type": "code",
   "execution_count": 12,
   "source": [
    "df.bad_client_target.value_counts(normalize = True)"
   ],
   "outputs": [
    {
     "output_type": "execute_result",
     "data": {
      "text/plain": [
       "0    0.886245\n",
       "1    0.113755\n",
       "Name: bad_client_target, dtype: float64"
      ]
     },
     "metadata": {},
     "execution_count": 12
    }
   ],
   "metadata": {}
  },
  {
   "cell_type": "code",
   "execution_count": 13,
   "source": [
    "# def plot(data, column_name, plot_name, color):\n",
    "#     # plt.xticks(rotation = 0)\n",
    "#     plt.xlabel(column_name)\n",
    "#     return data[column_name].value_counts().plot(kind = plot_name, color = color)"
   ],
   "outputs": [],
   "metadata": {}
  },
  {
   "cell_type": "code",
   "execution_count": 14,
   "source": [
    "sns.catplot(data = df, x = 'bad_client_target', kind = \"count\")"
   ],
   "outputs": [
    {
     "output_type": "execute_result",
     "data": {
      "text/plain": [
       "<seaborn.axisgrid.FacetGrid at 0x7f6ef6617400>"
      ]
     },
     "metadata": {},
     "execution_count": 14
    },
    {
     "output_type": "display_data",
     "data": {
      "image/png": "[encoded data removed]",
      "text/plain": [
       "<Figure size 360x360 with 1 Axes>"
      ]
     },
     "metadata": {
      "needs_background": "light"
     }
    }
   ],
   "metadata": {}
  },
  {
   "cell_type": "code",
   "execution_count": 15,
   "source": [
    "df.sex.value_counts(normalize = True)"
   ],
   "outputs": [
    {
     "output_type": "execute_result",
     "data": {
      "text/plain": [
       "male      0.540337\n",
       "female    0.459663\n",
       "Name: sex, dtype: float64"
      ]
     },
     "metadata": {},
     "execution_count": 15
    }
   ],
   "metadata": {}
  },
  {
   "cell_type": "code",
   "execution_count": 16,
   "source": [
    "sns.catplot(data = df, x = 'sex', kind = \"count\")"
   ],
   "outputs": [
    {
     "output_type": "execute_result",
     "data": {
      "text/plain": [
       "<seaborn.axisgrid.FacetGrid at 0x7f6ef65ae970>"
      ]
     },
     "metadata": {},
     "execution_count": 16
    },
    {
     "output_type": "display_data",
     "data": {
      "image/png": "[encoded data removed]",
      "text/plain": [
       "<Figure size 360x360 with 1 Axes>"
      ]
     },
     "metadata": {
      "needs_background": "light"
     }
    }
   ],
   "metadata": {}
  },
  {
   "cell_type": "code",
   "execution_count": 17,
   "source": [
    "pd.crosstab(df.sex, df.bad_client_target)"
   ],
   "outputs": [
    {
     "output_type": "execute_result",
     "data": {
      "text/html": [
       "<div>\n",
       "<style scoped>\n",
       "    .dataframe tbody tr th:only-of-type {\n",
       "        vertical-align: middle;\n",
       "    }\n",
       "\n",
       "    .dataframe tbody tr th {\n",
       "        vertical-align: top;\n",
       "    }\n",
       "\n",
       "    .dataframe thead th {\n",
       "        text-align: right;\n",
       "    }\n",
       "</style>\n",
       "<table border=\"1\" class=\"dataframe\">\n",
       "  <thead>\n",
       "    <tr style=\"text-align: right;\">\n",
       "      <th>bad_client_target</th>\n",
       "      <th>0</th>\n",
       "      <th>1</th>\n",
       "    </tr>\n",
       "    <tr>\n",
       "      <th>sex</th>\n",
       "      <th></th>\n",
       "      <th></th>\n",
       "    </tr>\n",
       "  </thead>\n",
       "  <tbody>\n",
       "    <tr>\n",
       "      <th>female</th>\n",
       "      <td>676</td>\n",
       "      <td>116</td>\n",
       "    </tr>\n",
       "    <tr>\n",
       "      <th>male</th>\n",
       "      <td>851</td>\n",
       "      <td>80</td>\n",
       "    </tr>\n",
       "  </tbody>\n",
       "</table>\n",
       "</div>"
      ],
      "text/plain": [
       "bad_client_target    0    1\n",
       "sex                        \n",
       "female             676  116\n",
       "male               851   80"
      ]
     },
     "metadata": {},
     "execution_count": 17
    }
   ],
   "metadata": {}
  },
  {
   "cell_type": "code",
   "execution_count": 18,
   "source": [
    "pd.crosstab(df.sex, df.bad_client_target, normalize = True)"
   ],
   "outputs": [
    {
     "output_type": "execute_result",
     "data": {
      "text/html": [
       "<div>\n",
       "<style scoped>\n",
       "    .dataframe tbody tr th:only-of-type {\n",
       "        vertical-align: middle;\n",
       "    }\n",
       "\n",
       "    .dataframe tbody tr th {\n",
       "        vertical-align: top;\n",
       "    }\n",
       "\n",
       "    .dataframe thead th {\n",
       "        text-align: right;\n",
       "    }\n",
       "</style>\n",
       "<table border=\"1\" class=\"dataframe\">\n",
       "  <thead>\n",
       "    <tr style=\"text-align: right;\">\n",
       "      <th>bad_client_target</th>\n",
       "      <th>0</th>\n",
       "      <th>1</th>\n",
       "    </tr>\n",
       "    <tr>\n",
       "      <th>sex</th>\n",
       "      <th></th>\n",
       "      <th></th>\n",
       "    </tr>\n",
       "  </thead>\n",
       "  <tbody>\n",
       "    <tr>\n",
       "      <th>female</th>\n",
       "      <td>0.392339</td>\n",
       "      <td>0.067324</td>\n",
       "    </tr>\n",
       "    <tr>\n",
       "      <th>male</th>\n",
       "      <td>0.493906</td>\n",
       "      <td>0.046431</td>\n",
       "    </tr>\n",
       "  </tbody>\n",
       "</table>\n",
       "</div>"
      ],
      "text/plain": [
       "bad_client_target         0         1\n",
       "sex                                  \n",
       "female             0.392339  0.067324\n",
       "male               0.493906  0.046431"
      ]
     },
     "metadata": {},
     "execution_count": 18
    }
   ],
   "metadata": {}
  },
  {
   "cell_type": "code",
   "execution_count": 19,
   "source": [
    "pd.crosstab(df.bad_client_target, df.sex).plot.bar(color = [\"darkgoldenrod\", \"tan\"])\n",
    "plt.xticks(rotation = 0)\n",
    "plt.xlabel(\"0 is Not bad clients and 1 is bad clients\")\n",
    "plt.ylabel(\"Frequency\")"
   ],
   "outputs": [
    {
     "output_type": "execute_result",
     "data": {
      "text/plain": [
       "Text(0, 0.5, 'Frequency')"
      ]
     },
     "metadata": {},
     "execution_count": 19
    },
    {
     "output_type": "display_data",
     "data": {
      "image/png": "[encoded data removed]",
      "text/plain": [
       "<Figure size 432x288 with 1 Axes>"
      ]
     },
     "metadata": {
      "needs_background": "light"
     }
    }
   ],
   "metadata": {}
  },
  {
   "cell_type": "code",
   "execution_count": 20,
   "source": [
    "plt.figure(figsize = (12, 8))\n",
    "sns.histplot(df, x = \"age\", bins = df.age.nunique(), color = \"maroon\", kde = True)\n",
    "plt.title(\"Age distribution\")"
   ],
   "outputs": [
    {
     "output_type": "execute_result",
     "data": {
      "text/plain": [
       "Text(0.5, 1.0, 'Age distribution')"
      ]
     },
     "metadata": {},
     "execution_count": 20
    },
    {
     "output_type": "display_data",
     "data": {
      "image/png": "[encoded data removed]",
      "text/plain": [
       "<Figure size 864x576 with 1 Axes>"
      ]
     },
     "metadata": {
      "needs_background": "light"
     }
    }
   ],
   "metadata": {}
  },
  {
   "cell_type": "code",
   "execution_count": 21,
   "source": [
    "plt.figure(figsize = (12, 8))\n",
    "plt.title(\"Credit amount distribution\")\n",
    "sns.histplot(df, x = \"credit_amount\", bins = df.age.nunique(), color = \"salmon\", kde = True)"
   ],
   "outputs": [
    {
     "output_type": "execute_result",
     "data": {
      "text/plain": [
       "<AxesSubplot:title={'center':'Credit amount distribution'}, xlabel='credit_amount', ylabel='Count'>"
      ]
     },
     "metadata": {},
     "execution_count": 21
    },
    {
     "output_type": "display_data",
     "data": {
      "image/png": "[encoded data removed]",
      "text/plain": [
       "<Figure size 864x576 with 1 Axes>"
      ]
     },
     "metadata": {
      "needs_background": "light"
     }
    }
   ],
   "metadata": {}
  },
  {
   "cell_type": "markdown",
   "source": [
    "## Models implementation"
   ],
   "metadata": {}
  },
  {
   "cell_type": "code",
   "execution_count": 22,
   "source": [
    "X = df.drop([\"bad_client_target\", \"product_type\", \"month\"], axis = 1)\n",
    "y = df.bad_client_target.values"
   ],
   "outputs": [],
   "metadata": {}
  },
  {
   "cell_type": "code",
   "execution_count": 23,
   "source": [
    "X.shape"
   ],
   "outputs": [
    {
     "output_type": "execute_result",
     "data": {
      "text/plain": [
       "(1723, 11)"
      ]
     },
     "metadata": {},
     "execution_count": 23
    }
   ],
   "metadata": {}
  },
  {
   "cell_type": "code",
   "execution_count": 24,
   "source": [
    "y.shape"
   ],
   "outputs": [
    {
     "output_type": "execute_result",
     "data": {
      "text/plain": [
       "(1723,)"
      ]
     },
     "metadata": {},
     "execution_count": 24
    }
   ],
   "metadata": {}
  },
  {
   "cell_type": "markdown",
   "source": [
    "## Training and test sets"
   ],
   "metadata": {}
  },
  {
   "cell_type": "code",
   "execution_count": 25,
   "source": [
    "X_train, X_test, y_train, y_test = train_test_split(X, y, test_size=0.25, random_state=4)"
   ],
   "outputs": [],
   "metadata": {}
  },
  {
   "cell_type": "code",
   "execution_count": 26,
   "source": [
    "print(X_train.shape)\n",
    "print(X_test.shape)\n",
    "print(y_train.shape)\n",
    "print(y_test.shape)"
   ],
   "outputs": [
    {
     "output_type": "stream",
     "name": "stdout",
     "text": [
      "(1292, 11)\n",
      "(431, 11)\n",
      "(1292,)\n",
      "(431,)\n"
     ]
    }
   ],
   "metadata": {}
  },
  {
   "cell_type": "code",
   "execution_count": 27,
   "source": [
    "model_results = { }"
   ],
   "outputs": [],
   "metadata": {}
  },
  {
   "cell_type": "code",
   "execution_count": 28,
   "source": [
    "X.dtypes"
   ],
   "outputs": [
    {
     "output_type": "execute_result",
     "data": {
      "text/plain": [
       "credit_amount           int64\n",
       "credit_term             int64\n",
       "age                     int64\n",
       "sex                    object\n",
       "education              object\n",
       "having_children_flg     int64\n",
       "region                  int64\n",
       "income                  int64\n",
       "family_status          object\n",
       "phone_operator          int64\n",
       "is_client               int64\n",
       "dtype: object"
      ]
     },
     "metadata": {},
     "execution_count": 28
    }
   ],
   "metadata": {}
  },
  {
   "cell_type": "code",
   "execution_count": 29,
   "source": [
    "categorical_features = list(X.columns[X.dtypes == 'object'])\n",
    "numerical_features = list(X.columns[X.dtypes == 'int64'])\n",
    "transformers = [\n",
    "    (\"onehot\", OneHotEncoder(), categorical_features),\n",
    "    (\"sc\", StandardScaler(copy=False), numerical_features)\n",
    "]\n",
    "col_transform = ColumnTransformer(transformers, remainder=\"passthrough\")\n",
    "\n",
    "X_train_transformed = col_transform.fit_transform(X_train)\n",
    "X_test_transformed = col_transform.fit_transform(X_test)\n",
    "X_scaled = col_transform.fit_transform(X)"
   ],
   "outputs": [],
   "metadata": {}
  },
  {
   "cell_type": "markdown",
   "source": [
    "## Logistic Regression"
   ],
   "metadata": {}
  },
  {
   "cell_type": "code",
   "execution_count": 30,
   "source": [
    "logreg = LogisticRegression()\n",
    "pipeline = make_pipeline(col_transform, logreg)\n",
    "pipeline.fit(X_train, y_train)\n",
    "model_results[\"LogisticRegression\"] = pipeline.score(X_test, y_test)"
   ],
   "outputs": [],
   "metadata": {}
  },
  {
   "cell_type": "markdown",
   "source": [
    "## KNN\n"
   ],
   "metadata": {}
  },
  {
   "cell_type": "code",
   "execution_count": 31,
   "source": [
    "knn = KNeighborsClassifier()\n",
    "pipeline = make_pipeline(col_transform, knn)\n",
    "pipeline.fit(X_train, y_train)\n",
    "model_results[\"KNN\"] = pipeline.score(X_test, y_test)"
   ],
   "outputs": [],
   "metadata": {}
  },
  {
   "cell_type": "markdown",
   "source": [
    "## Naive Bayes"
   ],
   "metadata": {}
  },
  {
   "cell_type": "code",
   "execution_count": 32,
   "source": [
    "nb = GaussianNB()\n",
    "pipeline = make_pipeline(col_transform, nb)\n",
    "pipeline.fit(X_train, y_train)\n",
    "model_results[\"GaussianNB\"] = pipeline.score(X_test, y_test)"
   ],
   "outputs": [],
   "metadata": {}
  },
  {
   "cell_type": "markdown",
   "source": [
    "## SVM"
   ],
   "metadata": {}
  },
  {
   "cell_type": "code",
   "execution_count": 33,
   "source": [
    "svc = SVC()\n",
    "pipeline = make_pipeline(col_transform, svc)\n",
    "pipeline.fit(X_train, y_train)\n",
    "model_results[\"SVC\"] = pipeline.score(X_test, y_test)"
   ],
   "outputs": [],
   "metadata": {}
  },
  {
   "cell_type": "markdown",
   "source": [
    "## Random Forest Classifier"
   ],
   "metadata": {}
  },
  {
   "cell_type": "code",
   "execution_count": 68,
   "source": [
    "rfc = RandomForestClassifier()\n",
    "pipeline = make_pipeline(col_transform, rfc)\n",
    "pipeline.fit(X_train, y_train)\n",
    "model_results[\"Random Forest\"] = pipeline.score(X_test, y_test)"
   ],
   "outputs": [],
   "metadata": {}
  },
  {
   "cell_type": "code",
   "execution_count": 69,
   "source": [
    "model_results"
   ],
   "outputs": [
    {
     "output_type": "execute_result",
     "data": {
      "text/plain": [
       "{'LogisticRegression': 0.9002320185614849,\n",
       " 'KNN': 0.8747099767981439,\n",
       " 'GaussianNB': 0.16473317865429235,\n",
       " 'SVC': 0.9002320185614849,\n",
       " 'Random Forest': 0.8955916473317865}"
      ]
     },
     "metadata": {},
     "execution_count": 69
    }
   ],
   "metadata": {}
  },
  {
   "cell_type": "markdown",
   "source": [
    "## Model comparison"
   ],
   "metadata": {}
  },
  {
   "cell_type": "code",
   "execution_count": 70,
   "source": [
    "model_compare = pd.DataFrame(model_results, index = [\"accuracy\"])\n",
    "model_compare.T.plot(kind = \"bar\", color = \"darkcyan\", figsize = (12, 8), legend = False)\n",
    "plt.xticks(rotation = 0)\n",
    "plt.xlabel(\"Models\")\n",
    "plt.ylabel(\"Accuracy out of 1\")"
   ],
   "outputs": [
    {
     "output_type": "execute_result",
     "data": {
      "text/plain": [
       "Text(0, 0.5, 'Accuracy out of 1')"
      ]
     },
     "metadata": {},
     "execution_count": 70
    },
    {
     "output_type": "display_data",
     "data": {
      "image/png": "[encoded data removed]",
      "text/plain": [
       "<Figure size 864x576 with 1 Axes>"
      ]
     },
     "metadata": {
      "needs_background": "light"
     }
    }
   ],
   "metadata": {}
  },
  {
   "cell_type": "markdown",
   "source": [
    "## Hyperparameter tuning and cross-validation with GridSearchCV"
   ],
   "metadata": {}
  },
  {
   "cell_type": "code",
   "execution_count": 36,
   "source": [
    "# Logistic Regression\n",
    "log_reg_tuning = {\"C\": np.logspace(-4, 4, 20),\n",
    "                  \"solver\": ['liblinear'],\n",
    "                  \"penalty\": [\"l1\", \"l2\"]\n",
    "                  }\n",
    "grid_search_log_reg = GridSearchCV(LogisticRegression(), param_grid = log_reg_tuning, cv = 15, verbose = True)\n",
    "grid_search_log_reg.fit(X_train_transformed, y_train)"
   ],
   "outputs": [
    {
     "output_type": "stream",
     "name": "stdout",
     "text": [
      "Fitting 15 folds for each of 40 candidates, totalling 600 fits\n"
     ]
    },
    {
     "output_type": "execute_result",
     "data": {
      "text/plain": [
       "GridSearchCV(cv=15, estimator=LogisticRegression(),\n",
       "             param_grid={'C': array([1.00000000e-04, 2.63665090e-04, 6.95192796e-04, 1.83298071e-03,\n",
       "       4.83293024e-03, 1.27427499e-02, 3.35981829e-02, 8.85866790e-02,\n",
       "       2.33572147e-01, 6.15848211e-01, 1.62377674e+00, 4.28133240e+00,\n",
       "       1.12883789e+01, 2.97635144e+01, 7.84759970e+01, 2.06913808e+02,\n",
       "       5.45559478e+02, 1.43844989e+03, 3.79269019e+03, 1.00000000e+04]),\n",
       "                         'penalty': ['l1', 'l2'], 'solver': ['liblinear']},\n",
       "             verbose=True)"
      ]
     },
     "metadata": {},
     "execution_count": 36
    }
   ],
   "metadata": {}
  },
  {
   "cell_type": "code",
   "execution_count": 37,
   "source": [
    "print(grid_search_log_reg.best_params_)\n",
    "print(grid_search_log_reg.best_score_)"
   ],
   "outputs": [
    {
     "output_type": "stream",
     "name": "stdout",
     "text": [
      "{'C': 0.0001, 'penalty': 'l1', 'solver': 'liblinear'}\n",
      "0.8815913748552081\n"
     ]
    }
   ],
   "metadata": {}
  },
  {
   "cell_type": "code",
   "execution_count": 38,
   "source": [
    "# KNN\n",
    "knn_tuning = {\"n_neighbors\": [i for i in range(1,30)]}\n",
    "grid_search_knn = GridSearchCV(KNeighborsClassifier(), param_grid = knn_tuning, cv = 15, verbose = True)\n",
    "grid_search_knn.fit(X_train_transformed, y_train)"
   ],
   "outputs": [
    {
     "output_type": "stream",
     "name": "stdout",
     "text": [
      "Fitting 15 folds for each of 29 candidates, totalling 435 fits\n"
     ]
    },
    {
     "output_type": "execute_result",
     "data": {
      "text/plain": [
       "GridSearchCV(cv=15, estimator=KNeighborsClassifier(),\n",
       "             param_grid={'n_neighbors': [1, 2, 3, 4, 5, 6, 7, 8, 9, 10, 11, 12,\n",
       "                                         13, 14, 15, 16, 17, 18, 19, 20, 21, 22,\n",
       "                                         23, 24, 25, 26, 27, 28, 29]},\n",
       "             verbose=True)"
      ]
     },
     "metadata": {},
     "execution_count": 38
    }
   ],
   "metadata": {}
  },
  {
   "cell_type": "code",
   "execution_count": 39,
   "source": [
    "print(grid_search_knn.best_params_)\n",
    "print(grid_search_knn.best_score_)"
   ],
   "outputs": [
    {
     "output_type": "stream",
     "name": "stdout",
     "text": [
      "{'n_neighbors': 10}\n",
      "0.882348748106567\n"
     ]
    }
   ],
   "metadata": {}
  },
  {
   "cell_type": "code",
   "execution_count": 40,
   "source": [
    "# Naive Bayes\n",
    "nb_tuning = {\"var_smoothing\": np.logspace(0, -9, 100)}\n",
    "grid_search_nb = GridSearchCV(GaussianNB(), param_grid = nb_tuning, cv = 15, verbose = True)\n",
    "grid_search_nb.fit(X_train_transformed, y_train)"
   ],
   "outputs": [
    {
     "output_type": "stream",
     "name": "stdout",
     "text": [
      "Fitting 15 folds for each of 100 candidates, totalling 1500 fits\n"
     ]
    },
    {
     "output_type": "execute_result",
     "data": {
      "text/plain": [
       "GridSearchCV(cv=15, estimator=GaussianNB(),\n",
       "             param_grid={'var_smoothing': array([1.00000000e+00, 8.11130831e-01, 6.57933225e-01, 5.33669923e-01,\n",
       "       4.32876128e-01, 3.51119173e-01, 2.84803587e-01, 2.31012970e-01,\n",
       "       1.87381742e-01, 1.51991108e-01, 1.23284674e-01, 1.00000000e-01,\n",
       "       8.11130831e-02, 6.57933225e-02, 5.33669923e-02, 4.32876128e-02,\n",
       "       3.51119173e-02, 2.84803587e-02, 2.3...\n",
       "       1.23284674e-07, 1.00000000e-07, 8.11130831e-08, 6.57933225e-08,\n",
       "       5.33669923e-08, 4.32876128e-08, 3.51119173e-08, 2.84803587e-08,\n",
       "       2.31012970e-08, 1.87381742e-08, 1.51991108e-08, 1.23284674e-08,\n",
       "       1.00000000e-08, 8.11130831e-09, 6.57933225e-09, 5.33669923e-09,\n",
       "       4.32876128e-09, 3.51119173e-09, 2.84803587e-09, 2.31012970e-09,\n",
       "       1.87381742e-09, 1.51991108e-09, 1.23284674e-09, 1.00000000e-09])},\n",
       "             verbose=True)"
      ]
     },
     "metadata": {},
     "execution_count": 40
    }
   ],
   "metadata": {}
  },
  {
   "cell_type": "code",
   "execution_count": 41,
   "source": [
    "print(grid_search_nb.best_params_)\n",
    "print(grid_search_nb.best_score_)"
   ],
   "outputs": [
    {
     "output_type": "stream",
     "name": "stdout",
     "text": [
      "{'var_smoothing': 1.0}\n",
      "0.8815913748552081\n"
     ]
    }
   ],
   "metadata": {}
  },
  {
   "cell_type": "code",
   "execution_count": 42,
   "source": [
    "# SVM\n",
    "svm_tuning = {\"kernel\": ['linear', 'rbf'], \"C\": np.logspace(1e-15, 1, 10),\"gamma\": np.logspace(1e-5, 10, 5)}\n",
    "grid_search_svm = GridSearchCV(SVC(), param_grid = svm_tuning, cv = 10, verbose = True)\n",
    "grid_search_svm.fit(X_train_transformed, y_train)"
   ],
   "outputs": [
    {
     "output_type": "stream",
     "name": "stdout",
     "text": [
      "Fitting 10 folds for each of 100 candidates, totalling 1000 fits\n"
     ]
    },
    {
     "output_type": "execute_result",
     "data": {
      "text/plain": [
       "GridSearchCV(cv=10, estimator=SVC(),\n",
       "             param_grid={'C': array([ 1.        ,  1.29154967,  1.66810054,  2.15443469,  2.7825594 ,\n",
       "        3.59381366,  4.64158883,  5.9948425 ,  7.74263683, 10.        ]),\n",
       "                         'gamma': array([1.00002303e+00, 3.16233227e+02, 1.00001151e+05, 3.16229586e+07,\n",
       "       1.00000000e+10]),\n",
       "                         'kernel': ['linear', 'rbf']},\n",
       "             verbose=True)"
      ]
     },
     "metadata": {},
     "execution_count": 42
    }
   ],
   "metadata": {}
  },
  {
   "cell_type": "code",
   "execution_count": 43,
   "source": [
    "print(grid_search_svm.best_params_)\n",
    "print(grid_search_svm.best_score_)"
   ],
   "outputs": [
    {
     "output_type": "stream",
     "name": "stdout",
     "text": [
      "{'C': 1.0000000000000022, 'gamma': 1.0000230261160268, 'kernel': 'linear'}\n",
      "0.8815861657722122\n"
     ]
    }
   ],
   "metadata": {}
  },
  {
   "cell_type": "code",
   "execution_count": 71,
   "source": [
    "# Random Forest\n",
    "rfc_tuning = {\n",
    "    \"n_estimators\": [200, 300, 500],\n",
    "    \"max_features\": ['auto', 'sqrt', 'log2'], \n",
    "    \"max_depth\": [4,5,6,7,8], \n",
    "    \"criterion\": ['gini', 'entropy']\n",
    "}\n",
    "grid_search_rfc = GridSearchCV(RandomForestClassifier(), param_grid = rfc_tuning, cv = 5, verbose = True)\n",
    "grid_search_rfc.fit(X_train_transformed, y_train)"
   ],
   "outputs": [
    {
     "output_type": "stream",
     "name": "stdout",
     "text": [
      "Fitting 5 folds for each of 90 candidates, totalling 450 fits\n"
     ]
    },
    {
     "output_type": "execute_result",
     "data": {
      "text/plain": [
       "GridSearchCV(cv=5, estimator=RandomForestClassifier(),\n",
       "             param_grid={'criterion': ['gini', 'entropy'],\n",
       "                         'max_depth': [4, 5, 6, 7, 8],\n",
       "                         'max_features': ['auto', 'sqrt', 'log2'],\n",
       "                         'n_estimators': [200, 300, 500]},\n",
       "             verbose=True)"
      ]
     },
     "metadata": {},
     "execution_count": 71
    }
   ],
   "metadata": {}
  },
  {
   "cell_type": "code",
   "execution_count": 72,
   "source": [
    "print(grid_search_rfc.best_params_)\n",
    "print(grid_search_rfc.best_score_)"
   ],
   "outputs": [
    {
     "output_type": "stream",
     "name": "stdout",
     "text": [
      "{'criterion': 'gini', 'max_depth': 6, 'max_features': 'auto', 'n_estimators': 200}\n",
      "0.8823561102630869\n"
     ]
    }
   ],
   "metadata": {}
  },
  {
   "cell_type": "markdown",
   "source": [
    "## All of the models work really good and have accuracy around ~88%"
   ],
   "metadata": {}
  },
  {
   "cell_type": "markdown",
   "source": [
    "## Confusion matrices"
   ],
   "metadata": {}
  },
  {
   "cell_type": "code",
   "execution_count": 44,
   "source": [
    "# Logistic Regression\n",
    "logreg_predicted = grid_search_log_reg.predict(X_test_transformed)"
   ],
   "outputs": [],
   "metadata": {}
  },
  {
   "cell_type": "code",
   "execution_count": 45,
   "source": [
    "confusion_matrix(y_test, logreg_predicted)"
   ],
   "outputs": [
    {
     "output_type": "execute_result",
     "data": {
      "text/plain": [
       "array([[388,   0],\n",
       "       [ 43,   0]])"
      ]
     },
     "metadata": {},
     "execution_count": 45
    }
   ],
   "metadata": {}
  },
  {
   "cell_type": "code",
   "execution_count": 46,
   "source": [
    "plt.figure(figsize=(8, 6))\n",
    "sns.heatmap(confusion_matrix(y_test, logreg_predicted), annot = True)\n",
    "plt.xlabel(\"True label\")\n",
    "plt.ylabel(\"predicted label\")\n",
    "plt.title(\"Truth table\")"
   ],
   "outputs": [
    {
     "output_type": "execute_result",
     "data": {
      "text/plain": [
       "Text(0.5, 1.0, 'Truth table')"
      ]
     },
     "metadata": {},
     "execution_count": 46
    },
    {
     "output_type": "display_data",
     "data": {
      "image/png": "[encoded data removed]",
      "text/plain": [
       "<Figure size 576x432 with 2 Axes>"
      ]
     },
     "metadata": {
      "needs_background": "light"
     }
    }
   ],
   "metadata": {}
  },
  {
   "cell_type": "code",
   "execution_count": 47,
   "source": [
    "# KNN\n",
    "knn_predicted = grid_search_knn.predict(X_test_transformed)"
   ],
   "outputs": [],
   "metadata": {}
  },
  {
   "cell_type": "code",
   "execution_count": 48,
   "source": [
    "confusion_matrix(y_test, knn_predicted)"
   ],
   "outputs": [
    {
     "output_type": "execute_result",
     "data": {
      "text/plain": [
       "array([[387,   1],\n",
       "       [ 43,   0]])"
      ]
     },
     "metadata": {},
     "execution_count": 48
    }
   ],
   "metadata": {}
  },
  {
   "cell_type": "code",
   "execution_count": 49,
   "source": [
    "plt.figure(figsize=(8, 6))\n",
    "sns.heatmap(confusion_matrix(y_test, knn_predicted), annot = True)\n",
    "plt.xlabel(\"True label\")\n",
    "plt.ylabel(\"predicted label\")\n",
    "plt.title(\"Truth table\")"
   ],
   "outputs": [
    {
     "output_type": "execute_result",
     "data": {
      "text/plain": [
       "Text(0.5, 1.0, 'Truth table')"
      ]
     },
     "metadata": {},
     "execution_count": 49
    },
    {
     "output_type": "display_data",
     "data": {
      "image/png": "[encoded data removed]",
      "text/plain": [
       "<Figure size 576x432 with 2 Axes>"
      ]
     },
     "metadata": {
      "needs_background": "light"
     }
    }
   ],
   "metadata": {}
  },
  {
   "cell_type": "code",
   "execution_count": 50,
   "source": [
    "# Naive Bayes\n",
    "nb_predicted = grid_search_nb.predict(X_test_transformed)"
   ],
   "outputs": [],
   "metadata": {}
  },
  {
   "cell_type": "code",
   "execution_count": 51,
   "source": [
    "confusion_matrix(y_test, nb_predicted)"
   ],
   "outputs": [
    {
     "output_type": "execute_result",
     "data": {
      "text/plain": [
       "array([[388,   0],\n",
       "       [ 43,   0]])"
      ]
     },
     "metadata": {},
     "execution_count": 51
    }
   ],
   "metadata": {}
  },
  {
   "cell_type": "code",
   "execution_count": 52,
   "source": [
    "plt.figure(figsize=(8, 6))\n",
    "sns.heatmap(confusion_matrix(y_test, nb_predicted), annot = True)\n",
    "plt.xlabel(\"True label\")\n",
    "plt.ylabel(\"predicted label\")\n",
    "plt.title(\"Truth table\")"
   ],
   "outputs": [
    {
     "output_type": "execute_result",
     "data": {
      "text/plain": [
       "Text(0.5, 1.0, 'Truth table')"
      ]
     },
     "metadata": {},
     "execution_count": 52
    },
    {
     "output_type": "display_data",
     "data": {
      "image/png": "[encoded data removed]",
      "text/plain": [
       "<Figure size 576x432 with 2 Axes>"
      ]
     },
     "metadata": {
      "needs_background": "light"
     }
    }
   ],
   "metadata": {}
  },
  {
   "cell_type": "code",
   "execution_count": 53,
   "source": [
    "# SVC\n",
    "svc_predicted = grid_search_svm.predict(X_test_transformed)"
   ],
   "outputs": [],
   "metadata": {}
  },
  {
   "cell_type": "code",
   "execution_count": 54,
   "source": [
    "confusion_matrix(y_test, svc_predicted)"
   ],
   "outputs": [
    {
     "output_type": "execute_result",
     "data": {
      "text/plain": [
       "array([[388,   0],\n",
       "       [ 43,   0]])"
      ]
     },
     "metadata": {},
     "execution_count": 54
    }
   ],
   "metadata": {}
  },
  {
   "cell_type": "code",
   "execution_count": 55,
   "source": [
    "plt.figure(figsize=(8, 6))\n",
    "sns.heatmap(confusion_matrix(y_test, svc_predicted), annot = True)\n",
    "plt.xlabel(\"True label\")\n",
    "plt.ylabel(\"predicted label\")\n",
    "plt.title(\"Truth table\")"
   ],
   "outputs": [
    {
     "output_type": "execute_result",
     "data": {
      "text/plain": [
       "Text(0.5, 1.0, 'Truth table')"
      ]
     },
     "metadata": {},
     "execution_count": 55
    },
    {
     "output_type": "display_data",
     "data": {
      "image/png": "[encoded data removed]",
      "text/plain": [
       "<Figure size 576x432 with 2 Axes>"
      ]
     },
     "metadata": {
      "needs_background": "light"
     }
    }
   ],
   "metadata": {}
  },
  {
   "cell_type": "code",
   "execution_count": 73,
   "source": [
    "# Random Forest\n",
    "rfc_predicted = grid_search_rfc.predict(X_test_transformed)\n"
   ],
   "outputs": [],
   "metadata": {}
  },
  {
   "cell_type": "code",
   "execution_count": 74,
   "source": [
    "confusion_matrix(y_test, rfc_predicted)"
   ],
   "outputs": [
    {
     "output_type": "execute_result",
     "data": {
      "text/plain": [
       "array([[388,   0],\n",
       "       [ 43,   0]])"
      ]
     },
     "metadata": {},
     "execution_count": 74
    }
   ],
   "metadata": {}
  },
  {
   "cell_type": "code",
   "execution_count": 75,
   "source": [
    "plt.figure(figsize=(8, 6))\n",
    "sns.heatmap(confusion_matrix(y_test, rfc_predicted), annot = True)\n",
    "plt.xlabel(\"True label\")\n",
    "plt.ylabel(\"predicted label\")\n",
    "plt.title(\"Truth table\")"
   ],
   "outputs": [
    {
     "output_type": "execute_result",
     "data": {
      "text/plain": [
       "Text(0.5, 1.0, 'Truth table')"
      ]
     },
     "metadata": {},
     "execution_count": 75
    },
    {
     "output_type": "display_data",
     "data": {
      "image/png": "[encoded data removed]",
      "text/plain": [
       "<Figure size 576x432 with 2 Axes>"
      ]
     },
     "metadata": {
      "needs_background": "light"
     }
    }
   ],
   "metadata": {}
  },
  {
   "cell_type": "markdown",
   "source": [
    "## Classification Report"
   ],
   "metadata": {}
  },
  {
   "cell_type": "code",
   "execution_count": 56,
   "source": [
    "# Logistic Regression\n",
    "print(classification_report(y_test, logreg_predicted))"
   ],
   "outputs": [
    {
     "output_type": "stream",
     "name": "stdout",
     "text": [
      "              precision    recall  f1-score   support\n",
      "\n",
      "           0       0.90      1.00      0.95       388\n",
      "           1       0.00      0.00      0.00        43\n",
      "\n",
      "    accuracy                           0.90       431\n",
      "   macro avg       0.45      0.50      0.47       431\n",
      "weighted avg       0.81      0.90      0.85       431\n",
      "\n"
     ]
    },
    {
     "output_type": "stream",
     "name": "stderr",
     "text": [
      "/home/majid/.local/lib/python3.8/site-packages/sklearn/metrics/_classification.py:1248: UndefinedMetricWarning: Precision and F-score are ill-defined and being set to 0.0 in labels with no predicted samples. Use `zero_division` parameter to control this behavior.\n",
      "  _warn_prf(average, modifier, msg_start, len(result))\n",
      "/home/majid/.local/lib/python3.8/site-packages/sklearn/metrics/_classification.py:1248: UndefinedMetricWarning: Precision and F-score are ill-defined and being set to 0.0 in labels with no predicted samples. Use `zero_division` parameter to control this behavior.\n",
      "  _warn_prf(average, modifier, msg_start, len(result))\n",
      "/home/majid/.local/lib/python3.8/site-packages/sklearn/metrics/_classification.py:1248: UndefinedMetricWarning: Precision and F-score are ill-defined and being set to 0.0 in labels with no predicted samples. Use `zero_division` parameter to control this behavior.\n",
      "  _warn_prf(average, modifier, msg_start, len(result))\n"
     ]
    }
   ],
   "metadata": {}
  },
  {
   "cell_type": "code",
   "execution_count": 57,
   "source": [
    "# KNN\n",
    "print(classification_report(y_test, knn_predicted))"
   ],
   "outputs": [
    {
     "output_type": "stream",
     "name": "stdout",
     "text": [
      "              precision    recall  f1-score   support\n",
      "\n",
      "           0       0.90      1.00      0.95       388\n",
      "           1       0.00      0.00      0.00        43\n",
      "\n",
      "    accuracy                           0.90       431\n",
      "   macro avg       0.45      0.50      0.47       431\n",
      "weighted avg       0.81      0.90      0.85       431\n",
      "\n"
     ]
    }
   ],
   "metadata": {}
  },
  {
   "cell_type": "code",
   "execution_count": 58,
   "source": [
    "# Naive Bayes\n",
    "print(classification_report(y_test, nb_predicted))"
   ],
   "outputs": [
    {
     "output_type": "stream",
     "name": "stdout",
     "text": [
      "              precision    recall  f1-score   support\n",
      "\n",
      "           0       0.90      1.00      0.95       388\n",
      "           1       0.00      0.00      0.00        43\n",
      "\n",
      "    accuracy                           0.90       431\n",
      "   macro avg       0.45      0.50      0.47       431\n",
      "weighted avg       0.81      0.90      0.85       431\n",
      "\n"
     ]
    },
    {
     "output_type": "stream",
     "name": "stderr",
     "text": [
      "/home/majid/.local/lib/python3.8/site-packages/sklearn/metrics/_classification.py:1248: UndefinedMetricWarning: Precision and F-score are ill-defined and being set to 0.0 in labels with no predicted samples. Use `zero_division` parameter to control this behavior.\n",
      "  _warn_prf(average, modifier, msg_start, len(result))\n",
      "/home/majid/.local/lib/python3.8/site-packages/sklearn/metrics/_classification.py:1248: UndefinedMetricWarning: Precision and F-score are ill-defined and being set to 0.0 in labels with no predicted samples. Use `zero_division` parameter to control this behavior.\n",
      "  _warn_prf(average, modifier, msg_start, len(result))\n",
      "/home/majid/.local/lib/python3.8/site-packages/sklearn/metrics/_classification.py:1248: UndefinedMetricWarning: Precision and F-score are ill-defined and being set to 0.0 in labels with no predicted samples. Use `zero_division` parameter to control this behavior.\n",
      "  _warn_prf(average, modifier, msg_start, len(result))\n"
     ]
    }
   ],
   "metadata": {}
  },
  {
   "cell_type": "code",
   "execution_count": 59,
   "source": [
    "# SVC\n",
    "print(classification_report(y_test, svc_predicted))"
   ],
   "outputs": [
    {
     "output_type": "stream",
     "name": "stdout",
     "text": [
      "              precision    recall  f1-score   support\n",
      "\n",
      "           0       0.90      1.00      0.95       388\n",
      "           1       0.00      0.00      0.00        43\n",
      "\n",
      "    accuracy                           0.90       431\n",
      "   macro avg       0.45      0.50      0.47       431\n",
      "weighted avg       0.81      0.90      0.85       431\n",
      "\n"
     ]
    },
    {
     "output_type": "stream",
     "name": "stderr",
     "text": [
      "/home/majid/.local/lib/python3.8/site-packages/sklearn/metrics/_classification.py:1248: UndefinedMetricWarning: Precision and F-score are ill-defined and being set to 0.0 in labels with no predicted samples. Use `zero_division` parameter to control this behavior.\n",
      "  _warn_prf(average, modifier, msg_start, len(result))\n",
      "/home/majid/.local/lib/python3.8/site-packages/sklearn/metrics/_classification.py:1248: UndefinedMetricWarning: Precision and F-score are ill-defined and being set to 0.0 in labels with no predicted samples. Use `zero_division` parameter to control this behavior.\n",
      "  _warn_prf(average, modifier, msg_start, len(result))\n",
      "/home/majid/.local/lib/python3.8/site-packages/sklearn/metrics/_classification.py:1248: UndefinedMetricWarning: Precision and F-score are ill-defined and being set to 0.0 in labels with no predicted samples. Use `zero_division` parameter to control this behavior.\n",
      "  _warn_prf(average, modifier, msg_start, len(result))\n"
     ]
    }
   ],
   "metadata": {}
  },
  {
   "cell_type": "code",
   "execution_count": 76,
   "source": [
    "# Random Forest\n",
    "print(classification_report(y_test, rfc_predicted))"
   ],
   "outputs": [
    {
     "output_type": "stream",
     "name": "stdout",
     "text": [
      "              precision    recall  f1-score   support\n",
      "\n",
      "           0       0.90      1.00      0.95       388\n",
      "           1       0.00      0.00      0.00        43\n",
      "\n",
      "    accuracy                           0.90       431\n",
      "   macro avg       0.45      0.50      0.47       431\n",
      "weighted avg       0.81      0.90      0.85       431\n",
      "\n"
     ]
    },
    {
     "output_type": "stream",
     "name": "stderr",
     "text": [
      "/home/majid/.local/lib/python3.8/site-packages/sklearn/metrics/_classification.py:1248: UndefinedMetricWarning: Precision and F-score are ill-defined and being set to 0.0 in labels with no predicted samples. Use `zero_division` parameter to control this behavior.\n",
      "  _warn_prf(average, modifier, msg_start, len(result))\n",
      "/home/majid/.local/lib/python3.8/site-packages/sklearn/metrics/_classification.py:1248: UndefinedMetricWarning: Precision and F-score are ill-defined and being set to 0.0 in labels with no predicted samples. Use `zero_division` parameter to control this behavior.\n",
      "  _warn_prf(average, modifier, msg_start, len(result))\n",
      "/home/majid/.local/lib/python3.8/site-packages/sklearn/metrics/_classification.py:1248: UndefinedMetricWarning: Precision and F-score are ill-defined and being set to 0.0 in labels with no predicted samples. Use `zero_division` parameter to control this behavior.\n",
      "  _warn_prf(average, modifier, msg_start, len(result))\n"
     ]
    }
   ],
   "metadata": {}
  },
  {
   "cell_type": "markdown",
   "source": [
    "## Personally I choose SVC to work with it"
   ],
   "metadata": {}
  },
  {
   "cell_type": "code",
   "execution_count": 60,
   "source": [
    "grid_search_log_reg.best_estimator_"
   ],
   "outputs": [
    {
     "output_type": "execute_result",
     "data": {
      "text/plain": [
       "LogisticRegression(C=0.0001, penalty='l1', solver='liblinear')"
      ]
     },
     "metadata": {},
     "execution_count": 60
    }
   ],
   "metadata": {}
  },
  {
   "cell_type": "code",
   "execution_count": 61,
   "source": [
    "fitted_logreg = LogisticRegression(C=0.0001, penalty='l1', solver = 'liblinear')"
   ],
   "outputs": [],
   "metadata": {}
  },
  {
   "cell_type": "code",
   "execution_count": 62,
   "source": [
    "logreg_acc = cross_val_score(fitted_logreg, X_scaled, y, cv = 15, scoring = \"accuracy\")\n",
    "np.mean(logreg_acc)"
   ],
   "outputs": [
    {
     "output_type": "execute_result",
     "data": {
      "text/plain": [
       "0.8862445969997457"
      ]
     },
     "metadata": {},
     "execution_count": 62
    }
   ],
   "metadata": {}
  },
  {
   "cell_type": "code",
   "execution_count": 63,
   "source": [
    "grid_search_svm.best_params_"
   ],
   "outputs": [
    {
     "output_type": "execute_result",
     "data": {
      "text/plain": [
       "{'C': 1.0000000000000022, 'gamma': 1.0000230261160268, 'kernel': 'linear'}"
      ]
     },
     "metadata": {},
     "execution_count": 63
    }
   ],
   "metadata": {}
  },
  {
   "cell_type": "code",
   "execution_count": 64,
   "source": [
    "# Instantiating SVC with the best model\n",
    "fitted_svc = SVC(C = 1.0000000000000022, kernel = 'linear', gamma = 1.0000230261160268)"
   ],
   "outputs": [],
   "metadata": {}
  },
  {
   "cell_type": "code",
   "execution_count": 65,
   "source": [
    "cv_acc = cross_val_score(fitted_svc, X_scaled, y, cv = 15, scoring = 'accuracy')\n",
    "cv_acc"
   ],
   "outputs": [
    {
     "output_type": "execute_result",
     "data": {
      "text/plain": [
       "array([0.88695652, 0.88695652, 0.88695652, 0.88695652, 0.88695652,\n",
       "       0.88695652, 0.88695652, 0.88695652, 0.88695652, 0.88695652,\n",
       "       0.88695652, 0.88695652, 0.87826087, 0.88596491, 0.88596491])"
      ]
     },
     "metadata": {},
     "execution_count": 65
    }
   ],
   "metadata": {}
  },
  {
   "cell_type": "code",
   "execution_count": 66,
   "source": [
    "cv_acc = np.mean(cv_acc)\n",
    "print(cv_acc)"
   ],
   "outputs": [
    {
     "output_type": "stream",
     "name": "stdout",
     "text": [
      "0.8862445969997457\n"
     ]
    }
   ],
   "metadata": {}
  },
  {
   "cell_type": "markdown",
   "source": [
    "## Random Forest implementation"
   ],
   "metadata": {}
  },
  {
   "cell_type": "code",
   "execution_count": 77,
   "source": [
    "grid_search_rfc.best_estimator_"
   ],
   "outputs": [
    {
     "output_type": "execute_result",
     "data": {
      "text/plain": [
       "RandomForestClassifier(max_depth=6, n_estimators=200)"
      ]
     },
     "metadata": {},
     "execution_count": 77
    }
   ],
   "metadata": {}
  },
  {
   "cell_type": "code",
   "execution_count": 81,
   "source": [
    "fitted_rfc = RandomForestClassifier(max_depth=6, n_estimators=200)\n",
    "rfc_acc = cross_val_score(fitted_rfc, X_scaled, y, cv = 15, scoring = \"accuracy\")\n",
    "np.mean(rfc_acc)"
   ],
   "outputs": [
    {
     "output_type": "execute_result",
     "data": {
      "text/plain": [
       "0.8862445969997457"
      ]
     },
     "metadata": {},
     "execution_count": 81
    }
   ],
   "metadata": {}
  },
  {
   "cell_type": "code",
   "execution_count": 82,
   "source": [
    "cv_acc = cross_val_score(fitted_rfc, X_scaled, y, cv = 15, scoring = 'accuracy')\n",
    "cv_acc"
   ],
   "outputs": [
    {
     "output_type": "execute_result",
     "data": {
      "text/plain": [
       "array([0.88695652, 0.88695652, 0.88695652, 0.88695652, 0.88695652,\n",
       "       0.88695652, 0.88695652, 0.88695652, 0.88695652, 0.88695652,\n",
       "       0.88695652, 0.88695652, 0.87826087, 0.88596491, 0.88596491])"
      ]
     },
     "metadata": {},
     "execution_count": 82
    }
   ],
   "metadata": {}
  },
  {
   "cell_type": "code",
   "execution_count": 83,
   "source": [
    "cv_acc = np.mean(cv_acc)\n",
    "print(cv_acc)"
   ],
   "outputs": [
    {
     "output_type": "stream",
     "name": "stdout",
     "text": [
      "0.8862445969997457\n"
     ]
    }
   ],
   "metadata": {}
  },
  {
   "cell_type": "code",
   "execution_count": null,
   "source": [],
   "outputs": [],
   "metadata": {}
  }
 ],
 "metadata": {
  "orig_nbformat": 4,
  "language_info": {
   "name": "python",
   "version": "3.8.10",
   "mimetype": "text/x-python",
   "codemirror_mode": {
    "name": "ipython",
    "version": 3
   },
   "pygments_lexer": "ipython3",
   "nbconvert_exporter": "python",
   "file_extension": ".py"
  },
  "kernelspec": {
   "name": "python3",
   "display_name": "Python 3.8.10 64-bit"
  },
  "interpreter": {
   "hash": "916dbcbb3f70747c44a77c7bcd40155683ae19c65e1c03b4aa3499c5328201f1"
  }
 },
 "nbformat": 4,
 "nbformat_minor": 2
}